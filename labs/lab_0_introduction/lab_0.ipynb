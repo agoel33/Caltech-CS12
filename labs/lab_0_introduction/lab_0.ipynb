{
  "cells": [
    {
      "cell_type": "markdown",
      "metadata": {
        "id": "fgcwoW7QThbv"
      },
      "source": [
        "# Lab 0: Introduction\n",
        "\n",
        "This lab is mainly for setup and assesses if you are prepared for CS 12: TensorFlow."
      ]
    },
    {
      "cell_type": "markdown",
      "metadata": {
        "id": "5T9IjzGtThby"
      },
      "source": [
        "## Section 0: Setup & Git Basics\n",
        "Read (and do) the setup as instructed on the class webpage:\n",
        "http://archie.caltech.edu/setup.html.\n",
        "\n",
        "Important things:\n",
        "- Make sure to **duplicate** the repository, do not **fork** it.\n",
        "- If you have already done this, reread the setup page and ensure everything works. (Also check that your GitHub repo is not a fork please)\n",
        "- It is very important that you give the instructors access to your repo. We cannot grade if you do not do this.\n",
        "  \n",
        "Now make and push a text file in the `lab_0_introduction` folder with a fun message for us.\n",
        "- Make sure that this file is added in its own commit.\n",
        "- Either use command line instructions (`git add`, `git commit`, `git push`) or use a visual git interface. (GitHub desktop, VSCode source control, etc)\n",
        "  - Do not upload the file using the interface on github.com."
      ]
    },
    {
      "cell_type": "markdown",
      "metadata": {
        "id": "Nqrzs-8RThb0"
      },
      "source": [
        "## Section 1: Formatting & Style\n",
        "\n",
        "Oh no! Ben Bitfiddle hasn't written any Python code since CS 1! Help him rewrite the functions below into something reasonable."
      ]
    },
    {
      "cell_type": "code",
      "execution_count": 14,
      "metadata": {
        "id": "-BXaJkl8Thb2"
      },
      "outputs": [],
      "source": [
        "# Import essential libraries\n",
        "import random\n",
        "import string\n",
        "import inspect\n",
        "import re"
      ]
    },
    {
      "cell_type": "code",
      "execution_count": 13,
      "metadata": {
        "id": "T-oxaqM5Thb4"
      },
      "outputs": [],
      "source": [
        "# Ben Bitfiddle wanted to make a function so he could add numbers together.\n",
        "# TODO: Refactor this code. \n",
        "def add(x, y):\n",
        "    y += x\n",
        "    return y\n",
        "  \n",
        "\n",
        "# Ben has made an interesting choice for his sorting function...\n",
        "# TODO: Clean up the spacing/formatting.\n",
        "def bogosort(array):\n",
        "    while(array!= sorted(array)):\n",
        "        random.shuffle(array)\n",
        "    return array\n",
        "   \n",
        "# Mr Bitfiddle wanted to make an array ranging from 1 to 13.\n",
        "# TODO: Isn't there an easy way to do this in Python...?\n",
        "def make_data():\n",
        "    lst = list(range(1, 14))\n",
        "    return lst\n",
        "  \n",
        "# Ben was tired of seeing Camelcasing in Python so he wrote a helpful function.\n",
        "# But wait, don't his variables look weird...?\n",
        "# TODO: Change Camel case names into Snake case.\n",
        "# Brownie points if you can rewrite this in one line. Hint: Use regexes.\n",
        "def convertCamelToSnake(sss):\n",
        "    return re.sub(r'(?<!^)(?=[A-Z])', '_', sss).lower()\n",
        "    "
      ]
    },
    {
      "cell_type": "code",
      "execution_count": 15,
      "metadata": {
        "colab": {
          "base_uri": "https://localhost:8080/"
        },
        "id": "20TJEi0qThb5",
        "outputId": "a45315c9-c70a-43ce-c2ac-1a3e8dab2656"
      },
      "outputs": [
        {
          "output_type": "stream",
          "name": "stdout",
          "text": [
            "1 + 5 = 6\n",
            "Oh boy it's sorted:\n",
            "\t[1, 2, 3, 4, 5, 6, 7, 8, 9]\n",
            "Data!:\n",
            "\t[1, 2, 3, 4, 5, 6, 7, 8, 9, 10, 11, 12, 13]\n",
            "Hmm wait...\n",
            "\tdef convert_camel_to_snake(sss):\n",
            "\t    return re.sub(r'(?<!^)(?=[_a-_z])', '_', sss).lower()\n",
            "\t\n"
          ]
        }
      ],
      "source": [
        "# NOTE: Just to see the output; no work to do here.\n",
        "\n",
        "print(\"1 + 5 =\", add(1, 5))\n",
        "\n",
        "print(\"Oh boy it's sorted:\\n\\t\", bogosort([2, 4, 6, 8, 9, 7, 5, 3, 1]), sep=\"\")\n",
        "\n",
        "print(\"Data!:\\n\\t\", make_data(), sep=\"\")\n",
        "\n",
        "print(\"Hmm wait...\\n\", \"\\t\" + convertCamelToSnake(inspect.getsource(convertCamelToSnake)).replace(\"\\n\", \"\\n\\t\"), sep=\"\")"
      ]
    },
    {
      "cell_type": "markdown",
      "metadata": {
        "id": "Rpd2h9beThb6"
      },
      "source": [
        "## Section 2: Documentation Scavenger Hunt\n",
        "\n",
        "Reading documentation will be very helpful if not essential to doing well in the class. \n",
        "\n",
        "### 2.1: TensorFlow Docs\n",
        "For TensorFlow, documentation can be found at https://www.tensorflow.org/api_docs/python. Do the following in comments below.\n",
        "\n",
        "- Find the following functions in the API and describe their use (one short sentence is good).\n",
        "  - `tf.math.erf`\n",
        "  - `tf.print`\n",
        "  - `tf.nn.weighted_cross_entropy_with_logits`\n",
        "  \n",
        "- Find functions that do the following (you don't need to use them just give the name):\n",
        "  - Flip an image horizontally (left to right).\n",
        "  - Fast Fourier transform.\n",
        "  - Casts a tensor to a new type.\n",
        "\n",
        "- List all of the types used in TensorFlow (`tf.dtypes`)."
      ]
    },
    {
      "cell_type": "code",
      "execution_count": null,
      "metadata": {
        "id": "y0mGNOrAThb7"
      },
      "outputs": [],
      "source": [
        "# Describe the functions:\n",
        "\n",
        "#The function tf.math.erf takes a tensor as an argument, and returns the gauss error function for it.\n",
        "#The function tf.print prints the the desired output. \n",
        "#The function tf.nn.weighted_cross_entropy_with_logits computes a weighted cross entropy\n",
        "\n",
        "# Find the functions:\n",
        "#tf.image.random_flip_left_right\n",
        "#tf.signal.fft\n",
        "#tf.cast\n",
        "\n",
        "# Example: Returns x + y element-wise. => `tf.math.add`\n",
        "# List the types: \n",
        "#QUANTIZED TYPES\n",
        "#blfloat16\n",
        "#bool\n",
        "#complex128\n",
        "#complex 64\n",
        "#double\n",
        "#float16\n",
        "#float32\n",
        "#float64\n",
        "#half\n",
        "#int\n",
        "#int16\n",
        "#int32\n",
        "#int64\n",
        "#int8\n",
        "#qint16\n",
        "#qint32\n",
        "#quint16\n",
        "#quint8\n",
        "#resource\n",
        "#string\n",
        "#unint16\n",
        "#uint32\n",
        "#uint64\n",
        "#variant\n",
        "\n",
        "\n",
        "\n"
      ]
    },
    {
      "cell_type": "markdown",
      "metadata": {
        "id": "Lxpyzr85Thb8"
      },
      "source": [
        "### 2.2: Python Docs\n",
        "The actual docs are here: https://docs.python.org/3/, but you may find this more useful: https://python-reference.readthedocs.io/.\n",
        "\n",
        "- Explain what a list comprehension is, and make one to list the first 10 squares.\n",
        "- Make a class called `ComplexNum` which can store the value of a complex number. \n",
        "  - Implement `__add__`, `__mul__`, and `__str__`."
      ]
    },
    {
      "cell_type": "code",
      "execution_count": 18,
      "metadata": {
        "colab": {
          "base_uri": "https://localhost:8080/"
        },
        "id": "_qbRtLfgThb9",
        "outputId": "58e1da65-c11d-49c8-ca9c-32cef3627c9a"
      },
      "outputs": [
        {
          "output_type": "stream",
          "name": "stdout",
          "text": [
            "[0, 1, 4, 9, 16, 25, 36, 49, 64, 81]\n"
          ]
        }
      ],
      "source": [
        "# TODO: Make a comprehension for the first 10 squares\n",
        "#List comprehension essentially returns a list based on an expression, variable and various other paramters.\n",
        "sq_lst = [n**2 for n in range(10)]\n",
        "print(sq_lst)"
      ]
    },
    {
      "cell_type": "code",
      "execution_count": 21,
      "metadata": {
        "colab": {
          "base_uri": "https://localhost:8080/"
        },
        "id": "dSqsfuWAThb-",
        "outputId": "484443ef-3faf-4196-d1f2-9f3aed963975"
      },
      "outputs": [
        {
          "output_type": "stream",
          "name": "stdout",
          "text": [
            "(-17+7j)\n"
          ]
        }
      ],
      "source": [
        "# TODO: Make the `ComplexNum` class\n",
        "\n",
        "class ComplexNum:\n",
        "  def __init__(self, real, imaginary):\n",
        "      self.real = real\n",
        "      self.imaginary = imaginary\n",
        "  def __add__(self, number):\n",
        "    return ComplexNum(self.real + number.real, self.imaginary + number.imaginary)\n",
        "  def __mul__(self, number):\n",
        "    return ComplexNum(self.real * number.real - self.imaginary * number.imaginary, \n",
        "                      self.real * number.imaginary + number.real * self.imaginary)\n",
        "  def __str__(self):\n",
        "    if self.imaginary > 0:\n",
        "      result = \"%.2f+%.2fj\" % (self.real, self.imaginary)\n",
        "    else:\n",
        "      result = \"%.2f+%.2fj\" % (self.real, self.imaginary)\n",
        "    return result\n",
        "\n",
        "# Native Python complex numbers \n",
        "a = 2 + 3j\n",
        "b = -2 + 5j\n",
        "print(a * b + a)\n",
        "\n",
        "# Your complex numbers\n",
        "# a = ComplexNum(2, 3)\n",
        "# b = ComplexNum(-2, 5)"
      ]
    },
    {
      "cell_type": "markdown",
      "metadata": {
        "id": "_Q7nTAJFThb-"
      },
      "source": [
        "## Section 3: Tips To Remember \n",
        "- Read the [documentation](https://www.tensorflow.org/api_docs/python/tf) for functions you don't understand.\n",
        "- Read the notes for every lab before starting.\n",
        "  - The lecture notes have useful code to use, just make sure to actually change it so it works for the situation.\n",
        "  - It will be almost impossible to do this class without the notes.\n",
        "- Read all instructions on the assignments carefully. You can easily lose a lot of points if you forget to do something simple **like assigning TensorFlow names to your variables**.\n",
        "- Experiment with hyperparameters if your model does not train well.\n",
        "- Join the discord and check it often _(this is required)_."
      ]
    }
  ],
  "metadata": {
    "kernelspec": {
      "display_name": "Python 3",
      "language": "python",
      "name": "python3"
    },
    "language_info": {
      "codemirror_mode": {
        "name": "ipython",
        "version": 3
      },
      "file_extension": ".py",
      "mimetype": "text/x-python",
      "name": "python",
      "nbconvert_exporter": "python",
      "pygments_lexer": "ipython3",
      "version": "3.6.9"
    },
    "colab": {
      "name": "lab_0.ipynb",
      "provenance": []
    }
  },
  "nbformat": 4,
  "nbformat_minor": 0
}